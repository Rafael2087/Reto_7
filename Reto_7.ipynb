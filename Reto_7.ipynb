{
 "cells": [
  {
   "cell_type": "markdown",
   "metadata": {},
   "source": [
    "# Punto 1 #"
   ]
  },
  {
   "cell_type": "code",
   "execution_count": null,
   "metadata": {},
   "outputs": [],
   "source": [
    "def Cuadrado (x : int):\n",
    "    Square = x ** 2\n",
    "    return Square\n",
    "    \n",
    "if __name__ == \"__main__\" :\n",
    "    i : int = 1\n",
    "    while ( i <= 100) :\n",
    "        print (\"El cuadrado de \" + str(i) + \" es igual a \" + str(Cuadrado(i)))\n",
    "        i += 1"
   ]
  },
  {
   "cell_type": "markdown",
   "metadata": {},
   "source": [
    "# Punto 2 #"
   ]
  },
  {
   "cell_type": "code",
   "execution_count": null,
   "metadata": {},
   "outputs": [],
   "source": [
    "if __name__ == \"__main__\" :\n",
    "    i : int = 1\n",
    "    print(\"Listado números impares\")\n",
    "    while (i <= 999) :\n",
    "        print (i)\n",
    "        i += 2\n",
    "    j : int = 2\n",
    "    print(\"Listado números pares\")\n",
    "    while (j <= 1000) :\n",
    "        print (j)\n",
    "        j += 2  "
   ]
  },
  {
   "cell_type": "markdown",
   "metadata": {},
   "source": [
    "# Punto 3 #"
   ]
  },
  {
   "cell_type": "code",
   "execution_count": null,
   "metadata": {},
   "outputs": [],
   "source": [
    "if __name__ == \"__main__\":\n",
    "    i : int = int(input(\"Dijite un entero: \"))\n",
    "    if i % 2 != 0 :\n",
    "        i = i - 1\n",
    "    while (i >= 2):\n",
    "        print(i)\n",
    "        i = i - 2\n",
    "    if i < 2 :\n",
    "        print(\"Dijite un número mayor o igual a 2\")"
   ]
  },
  {
   "cell_type": "markdown",
   "metadata": {},
   "source": [
    "# Punto 4 #"
   ]
  },
  {
   "cell_type": "code",
   "execution_count": null,
   "metadata": {},
   "outputs": [],
   "source": [
    "if __name__ == \"__main__\":\n",
    "    i : float = 25000000\n",
    "    j : float = 18900000\n",
    "    k : int = 0\n",
    "    while i > j :\n",
    "        i = (102/100)*i\n",
    "        j = (103/100)*j\n",
    "        k = k + 1\n",
    "         \n",
    "    print(\"La población B superara a la población A en el año \" + str(2022 + k))"
   ]
  },
  {
   "cell_type": "markdown",
   "metadata": {},
   "source": [
    "# Punto 5 #"
   ]
  },
  {
   "cell_type": "code",
   "execution_count": null,
   "metadata": {},
   "outputs": [],
   "source": [
    "if __name__ == \"__main__\":\n",
    "    i : int = int(input(\"Dijite un número natural: \"))\n",
    "    j : int = i\n",
    "    k : int = 1\n",
    "    while (j > 1):\n",
    "        j = j - 1\n",
    "        i = i * j\n",
    "    print(\"El factorial de \" + str(k) + \" es \" + str(i))"
   ]
  },
  {
   "cell_type": "markdown",
   "metadata": {},
   "source": [
    "# Punto 6 #"
   ]
  },
  {
   "cell_type": "code",
   "execution_count": null,
   "metadata": {},
   "outputs": [],
   "source": [
    "import random\n",
    "\n",
    "if __name__ == \"__main__\" :\n",
    "    i : int = random.randint(1,100)\n",
    "    j : int = 0\n",
    "    while j != i :\n",
    "        if j > i :\n",
    "            print (\"El número es mayor\")\n",
    "        else:\n",
    "            print (\"El número es menor\")\n",
    "        j = int(input(\"Dijite un número: \"))\n",
    "    print(\"El número es igual\")"
   ]
  },
  {
   "cell_type": "markdown",
   "metadata": {},
   "source": [
    "# Punto 7 #"
   ]
  },
  {
   "cell_type": "code",
   "execution_count": null,
   "metadata": {},
   "outputs": [],
   "source": [
    "import random\n",
    "def Divisores (n1 : int , n2 : int):\n",
    "    if n1 % n2 == 0 :\n",
    "        return True\n",
    "    else:\n",
    "        return False\n",
    "if __name__ == \"__main__\" :\n",
    "    i : int = random.randint(2,50)\n",
    "    j : int = 1\n",
    "\n",
    "    while i >= j :\n",
    "        k : bool = Divisores(i,j)\n",
    "        if k == True :\n",
    "            print(str(j) + \" es divisor de \" + str (i))\n",
    "        j = j + 1"
   ]
  },
  {
   "cell_type": "markdown",
   "metadata": {},
   "source": [
    "# Punto 8 #"
   ]
  },
  {
   "cell_type": "code",
   "execution_count": null,
   "metadata": {},
   "outputs": [],
   "source": [
    "def Primo(num):\n",
    "    if num < 2:\n",
    "        return False\n",
    "    i = 2\n",
    "    while i*i <= num:\n",
    "        if num % i == 0:\n",
    "            return False\n",
    "        i += 1\n",
    "    return True\n",
    "\n",
    "def Imprimir_Primos():\n",
    "    num = 1\n",
    "    while num <= 100:\n",
    "        if Primo(num):\n",
    "            print(num)\n",
    "        num += 1\n",
    "\n",
    "Imprimir_Primos()\n"
   ]
  }
 ],
 "metadata": {
  "language_info": {
   "name": "python"
  }
 },
 "nbformat": 4,
 "nbformat_minor": 2
}
